{
 "cells": [
  {
   "cell_type": "code",
   "execution_count": 2,
   "metadata": {},
   "outputs": [],
   "source": [
    "import re, os, glob\n",
    "import pandas as pd\n",
    "import numpy as np\n",
    "\n",
    "from collections import defaultdict"
   ]
  },
  {
   "cell_type": "markdown",
   "metadata": {},
   "source": [
    "$$ \\textbf{(1)} \\space \\space D = \\sum_{i=1}^{R} \\left( \\frac{n_i}{N}\\right)^{\\!2} $$\n",
    "$$ \\textbf{(2)} \\space \\space D = \\sum_{i=1}^{R} \\frac{n_i(n_i-1)}{N(N-1)} $$\n",
    "\n",
    "$$ \\textbf{(3)} \\space \\space D_{comp} = 1-D $$\n",
    "$$ \\textbf{(4)} \\space \\space D_{inv} = \\frac{1}{D} $$"
   ]
  },
  {
   "cell_type": "markdown",
   "metadata": {},
   "source": [
    "# Functions"
   ]
  },
  {
   "cell_type": "code",
   "execution_count": 10,
   "metadata": {},
   "outputs": [],
   "source": [
    "def read_file(file):\n",
    "    \"\"\"\n",
    "    This function reads in the input file and counts the number of UMIs for each TCR.\n",
    "    \"\"\"\n",
    "    tcr_dict = defaultdict(int)\n",
    "    # Read in Fixed Cut Files\n",
    "    with open(file) as input:\n",
    "        for line in input:\n",
    "            info = line.rstrip().split('\\t')\n",
    "            tcr_aa = '|'.join(info[:3])\n",
    "            umi = int(info[3])\n",
    "            tcr_dict[tcr_aa] += umi\n",
    "    return tcr_dict"
   ]
  },
  {
   "cell_type": "code",
   "execution_count": 21,
   "metadata": {},
   "outputs": [],
   "source": [
    "def extract_donor_info(filename):\n",
    "    match = re.search(r\"P7M1S-(.*)-(\\d{3,4})([AB])CD(4|8|48)(N|M|NM)-(alpha|beta)combinedfixed_cut.txt\",\n",
    "              os.path.basename(filename))\n",
    "    if match:\n",
    "        donor,timepoint,cell_type,chain = match.group(2),match.group(3),'CD{}{}'.format(\n",
    "            match.group(4),match.group(5)),match.group(6)        \n",
    "    else:\n",
    "        print(\"Error! Filename {} does not match convention!\".format(filename))\n",
    "        sys.exit(1)\n",
    "    return donor,timepoint, cell_type,chain        "
   ]
  },
  {
   "cell_type": "code",
   "execution_count": 31,
   "metadata": {},
   "outputs": [],
   "source": [
    "def calculate_simpson(tcr_df):\n",
    "    total_umi = float(tcr_df['UMI Count'].sum())\n",
    "    tcr_df['UMI Abundance'] = (tcr_df['UMI Count']/total_umi)**2\n",
    "    tcr_umi_df['UMI Adjustment'] = tcr_umi_df['UMI Count'] * (tcr_umi_df['UMI Count'] - 1)\n",
    "    \n",
    "    simpson_1 = tcr_df['UMI Abundance'].sum()\n",
    "    simpson_2 =  tcr_umi_df['UMI Adjustment'].sum()/(total_umi*(total_umi-1))\n",
    "    comp_sim1 = 1-simpson_1\n",
    "    comp_sim2 = 1-simpson_2\n",
    "    inv_sim1 = 1/simpson_1\n",
    "    inv_sim2 = 1/simpson_2\n",
    "    \n",
    "    return simpson_1, simpson_2, comp_sim1, comp_sim2, inv_sim1, inv_sim2"
   ]
  },
  {
   "cell_type": "markdown",
   "metadata": {},
   "source": [
    "# Read Input Files"
   ]
  },
  {
   "cell_type": "code",
   "execution_count": 38,
   "metadata": {},
   "outputs": [
    {
     "name": "stdout",
     "output_type": "stream",
     "text": [
      "240\n"
     ]
    }
   ],
   "source": [
    "input_dir = 'C:/Users/super/OneDrive - University of California, Davis/NIH/Human_TCR_Analysis/Data_Files/CDR3_AA/CD4_CD8_redo/'\n",
    "input_files = sorted(glob.glob(input_dir + '*fixed_cut.txt'))\n",
    "print(len(input_files))"
   ]
  },
  {
   "cell_type": "code",
   "execution_count": 39,
   "metadata": {},
   "outputs": [],
   "source": [
    "summary_df = pd.DataFrame(index = range(0,len(input_files)),\n",
    "                         columns = ['Full Sample Name','Donor','Timepoint','Cell Type','TCR Chain','Total TCR Count',\n",
    "                                    'Total UMI Count','Simpson Index-1','Simpson Index-2',\n",
    "                                    'Complementary Simpson Index-1','Complementary Simpson Index-2',\n",
    "                                    'Inverse Simpson Index-1','Inverse Simpson Index-2'])"
   ]
  },
  {
   "cell_type": "markdown",
   "metadata": {},
   "source": [
    "# Calculate Simpson's Index"
   ]
  },
  {
   "cell_type": "code",
   "execution_count": 40,
   "metadata": {},
   "outputs": [],
   "source": [
    "counter = -1\n",
    "for file in input_files:\n",
    "    counter += 1\n",
    "    tcr_umi_dict = read_file(file)\n",
    "    donor,timepoint, cell_type,chain = extract_donor_info(file)\n",
    "    full_samp_name = '{}{}{}-{}'.format(donor,timepoint, cell_type,chain)\n",
    "    tcr_umi_df = pd.DataFrame.from_dict(tcr_umi_dict,orient = 'index',columns = ['UMI Count'])\n",
    "    total_tcr_count = len(tcr_umi_df.index.values)\n",
    "    total_umi_count = tcr_umi_df['UMI Count'].sum()\n",
    "    s1,s2,cs1,cs2,is1,is2 = calculate_simpson(tcr_umi_df)\n",
    "    \n",
    "    summary_df.loc[counter,'Full Sample Name'] = full_samp_name\n",
    "    summary_df.loc[counter,'Donor'] = donor\n",
    "    summary_df.loc[counter,'Timepoint'] = timepoint\n",
    "    summary_df.loc[counter,'Cell Type'] = cell_type\n",
    "    summary_df.loc[counter,'TCR Chain'] = chain\n",
    "    summary_df.loc[counter,'Total TCR Count'] = total_tcr_count\n",
    "    summary_df.loc[counter,'Total UMI Count'] = total_umi_count\n",
    "    summary_df.loc[counter,'Simpson Index-1'] = s1\n",
    "    summary_df.loc[counter,'Simpson Index-2'] = s2\n",
    "    summary_df.loc[counter,'Complementary Simpson Index-1'] = cs1\n",
    "    summary_df.loc[counter,'Complementary Simpson Index-2'] = cs2\n",
    "    summary_df.loc[counter,'Inverse Simpson Index-1'] = is1\n",
    "    summary_df.loc[counter,'Inverse Simpson Index-2'] = is2\n",
    "    \n",
    "    "
   ]
  },
  {
   "cell_type": "code",
   "execution_count": 41,
   "metadata": {},
   "outputs": [
    {
     "data": {
      "text/html": [
       "<div>\n",
       "<style scoped>\n",
       "    .dataframe tbody tr th:only-of-type {\n",
       "        vertical-align: middle;\n",
       "    }\n",
       "\n",
       "    .dataframe tbody tr th {\n",
       "        vertical-align: top;\n",
       "    }\n",
       "\n",
       "    .dataframe thead th {\n",
       "        text-align: right;\n",
       "    }\n",
       "</style>\n",
       "<table border=\"1\" class=\"dataframe\">\n",
       "  <thead>\n",
       "    <tr style=\"text-align: right;\">\n",
       "      <th></th>\n",
       "      <th>Full Sample Name</th>\n",
       "      <th>Donor</th>\n",
       "      <th>Timepoint</th>\n",
       "      <th>Cell Type</th>\n",
       "      <th>TCR Chain</th>\n",
       "      <th>Total TCR Count</th>\n",
       "      <th>Total UMI Count</th>\n",
       "      <th>Simpson Index-1</th>\n",
       "      <th>Simpson Index-2</th>\n",
       "      <th>Complementary Simpson Index-1</th>\n",
       "      <th>Complementary Simpson Index-2</th>\n",
       "      <th>Inverse Simpson Index-1</th>\n",
       "      <th>Inverse Simpson Index-2</th>\n",
       "    </tr>\n",
       "  </thead>\n",
       "  <tbody>\n",
       "    <tr>\n",
       "      <th>0</th>\n",
       "      <td>1029ACD4NM-alpha</td>\n",
       "      <td>1029</td>\n",
       "      <td>A</td>\n",
       "      <td>CD4NM</td>\n",
       "      <td>alpha</td>\n",
       "      <td>28061</td>\n",
       "      <td>568468</td>\n",
       "      <td>0.00194663</td>\n",
       "      <td>0.00194488</td>\n",
       "      <td>0.998053</td>\n",
       "      <td>0.998055</td>\n",
       "      <td>513.707</td>\n",
       "      <td>514.171</td>\n",
       "    </tr>\n",
       "    <tr>\n",
       "      <th>1</th>\n",
       "      <td>1029ACD4NM-beta</td>\n",
       "      <td>1029</td>\n",
       "      <td>A</td>\n",
       "      <td>CD4NM</td>\n",
       "      <td>beta</td>\n",
       "      <td>27427</td>\n",
       "      <td>636156</td>\n",
       "      <td>0.000122587</td>\n",
       "      <td>0.000121015</td>\n",
       "      <td>0.999877</td>\n",
       "      <td>0.999879</td>\n",
       "      <td>8157.47</td>\n",
       "      <td>8263.42</td>\n",
       "    </tr>\n",
       "    <tr>\n",
       "      <th>2</th>\n",
       "      <td>1029ACD8NM-alpha</td>\n",
       "      <td>1029</td>\n",
       "      <td>A</td>\n",
       "      <td>CD8NM</td>\n",
       "      <td>alpha</td>\n",
       "      <td>6488</td>\n",
       "      <td>351306</td>\n",
       "      <td>0.0194444</td>\n",
       "      <td>0.0194416</td>\n",
       "      <td>0.980556</td>\n",
       "      <td>0.980558</td>\n",
       "      <td>51.4287</td>\n",
       "      <td>51.4361</td>\n",
       "    </tr>\n",
       "    <tr>\n",
       "      <th>3</th>\n",
       "      <td>1029ACD8NM-beta</td>\n",
       "      <td>1029</td>\n",
       "      <td>A</td>\n",
       "      <td>CD8NM</td>\n",
       "      <td>beta</td>\n",
       "      <td>9680</td>\n",
       "      <td>992546</td>\n",
       "      <td>0.0416692</td>\n",
       "      <td>0.0416682</td>\n",
       "      <td>0.958331</td>\n",
       "      <td>0.958332</td>\n",
       "      <td>23.9985</td>\n",
       "      <td>23.9991</td>\n",
       "    </tr>\n",
       "    <tr>\n",
       "      <th>4</th>\n",
       "      <td>1029BCD4NM-alpha</td>\n",
       "      <td>1029</td>\n",
       "      <td>B</td>\n",
       "      <td>CD4NM</td>\n",
       "      <td>alpha</td>\n",
       "      <td>19239</td>\n",
       "      <td>404551</td>\n",
       "      <td>0.000500008</td>\n",
       "      <td>0.000497537</td>\n",
       "      <td>0.9995</td>\n",
       "      <td>0.999502</td>\n",
       "      <td>1999.97</td>\n",
       "      <td>2009.9</td>\n",
       "    </tr>\n",
       "  </tbody>\n",
       "</table>\n",
       "</div>"
      ],
      "text/plain": [
       "   Full Sample Name Donor Timepoint Cell Type TCR Chain Total TCR Count  \\\n",
       "0  1029ACD4NM-alpha  1029         A     CD4NM     alpha           28061   \n",
       "1   1029ACD4NM-beta  1029         A     CD4NM      beta           27427   \n",
       "2  1029ACD8NM-alpha  1029         A     CD8NM     alpha            6488   \n",
       "3   1029ACD8NM-beta  1029         A     CD8NM      beta            9680   \n",
       "4  1029BCD4NM-alpha  1029         B     CD4NM     alpha           19239   \n",
       "\n",
       "  Total UMI Count Simpson Index-1 Simpson Index-2  \\\n",
       "0          568468      0.00194663      0.00194488   \n",
       "1          636156     0.000122587     0.000121015   \n",
       "2          351306       0.0194444       0.0194416   \n",
       "3          992546       0.0416692       0.0416682   \n",
       "4          404551     0.000500008     0.000497537   \n",
       "\n",
       "  Complementary Simpson Index-1 Complementary Simpson Index-2  \\\n",
       "0                      0.998053                      0.998055   \n",
       "1                      0.999877                      0.999879   \n",
       "2                      0.980556                      0.980558   \n",
       "3                      0.958331                      0.958332   \n",
       "4                        0.9995                      0.999502   \n",
       "\n",
       "  Inverse Simpson Index-1 Inverse Simpson Index-2  \n",
       "0                 513.707                 514.171  \n",
       "1                 8157.47                 8263.42  \n",
       "2                 51.4287                 51.4361  \n",
       "3                 23.9985                 23.9991  \n",
       "4                 1999.97                  2009.9  "
      ]
     },
     "execution_count": 41,
     "metadata": {},
     "output_type": "execute_result"
    }
   ],
   "source": [
    "summary_df.head()"
   ]
  },
  {
   "cell_type": "code",
   "execution_count": 42,
   "metadata": {},
   "outputs": [],
   "source": [
    "summary_df.to_csv('./A_Results/simpson_index_results-cd4_cd8.csv')"
   ]
  },
  {
   "cell_type": "code",
   "execution_count": null,
   "metadata": {},
   "outputs": [],
   "source": []
  }
 ],
 "metadata": {
  "kernelspec": {
   "display_name": "Python 3",
   "language": "python",
   "name": "python3"
  },
  "language_info": {
   "codemirror_mode": {
    "name": "ipython",
    "version": 3
   },
   "file_extension": ".py",
   "mimetype": "text/x-python",
   "name": "python",
   "nbconvert_exporter": "python",
   "pygments_lexer": "ipython3",
   "version": "3.7.6"
  }
 },
 "nbformat": 4,
 "nbformat_minor": 4
}
