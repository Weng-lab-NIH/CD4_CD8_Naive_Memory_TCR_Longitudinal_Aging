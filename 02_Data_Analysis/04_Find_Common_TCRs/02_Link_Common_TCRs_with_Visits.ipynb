{
 "cells": [
  {
   "cell_type": "code",
   "execution_count": null,
   "metadata": {},
   "outputs": [],
   "source": [
    "import re\n",
    "import pandas as pd\n",
    "from collections import defaultdict"
   ]
  },
  {
   "cell_type": "markdown",
   "metadata": {},
   "source": [
    "## Functions"
   ]
  },
  {
   "cell_type": "code",
   "execution_count": null,
   "metadata": {},
   "outputs": [],
   "source": [
    "#Find out sharing level of each TCR\n",
    "def find_sharing_level(tcr,all_tcr_df):\n",
    "    return all_tcr_df.loc[tcr,'Number of Common Donors']"
   ]
  },
  {
   "cell_type": "code",
   "execution_count": null,
   "metadata": {},
   "outputs": [],
   "source": [
    "#Classify Sharing Levels\n",
    "def classify_sharing(sharing_num): \n",
    "    if sharing_num == 1:\n",
    "        return \"Private\"\n",
    "    else:\n",
    "        return \"Public\""
   ]
  },
  {
   "cell_type": "code",
   "execution_count": null,
   "metadata": {},
   "outputs": [],
   "source": [
    "def clean_tcr_sequences(tcr):\n",
    "    \n",
    "    #Remove Alleles\n",
    "    if \"*01\" in tcr:\n",
    "        tcr = tcr.replace(\"*01\",\"\")\n",
    "    if \"*02\" in tcr:\n",
    "        tcr = tcr.replace(\"*02\",\"\")\n",
    "    return tcr    "
   ]
  },
  {
   "cell_type": "code",
   "execution_count": null,
   "metadata": {},
   "outputs": [],
   "source": [
    "def classify_antigen_tcr(tcr,flu_sequences,cmv_sequences):\n",
    "    if tcr in flu_sequences and tcr not in cmv_sequences:\n",
    "        antigen_spec = 'FLU-M1'\n",
    "    elif tcr not in flu_sequences and tcr in cmv_sequences:\n",
    "        antigen_spec = 'CMV-pp65'\n",
    "    elif tcr in flu_sequences and tcr in cmv_sequences:\n",
    "        antigen_spec = 'FLU-M1 and CMV-pp65'\n",
    "    else:\n",
    "        antigen_spec = 'No Antigen Specificity'\n",
    "    return antigen_spec"
   ]
  },
  {
   "cell_type": "markdown",
   "metadata": {},
   "source": [
    "## Read Files"
   ]
  },
  {
   "cell_type": "markdown",
   "metadata": {},
   "source": [
    "Use CSV file not based on donor-visit to classify each TCR as private or public"
   ]
  },
  {
   "cell_type": "code",
   "execution_count": null,
   "metadata": {},
   "outputs": [],
   "source": [
    "input_file_all = pd.read_csv('./C_Result_Files/CD8_redo_no_umi/CD8_Donors_all_Alpha_Common_TCRs.csv',\n",
    "                             index_col = 0,header = 0)\n",
    "input_file_visit = pd.read_csv('./C_Result_Files/CD8_redo_no_umi_visit/CD8_Donors_all_Alpha_Common_TCRs.csv',\n",
    "                               index_col = 0,header = 0)"
   ]
  },
  {
   "cell_type": "code",
   "execution_count": null,
   "metadata": {},
   "outputs": [],
   "source": [
    "input_file_all.head()"
   ]
  },
  {
   "cell_type": "code",
   "execution_count": null,
   "metadata": {},
   "outputs": [],
   "source": [
    "input_file_visit.head()"
   ]
  },
  {
   "cell_type": "code",
   "execution_count": null,
   "metadata": {},
   "outputs": [],
   "source": [
    "print(input_file_all.shape)"
   ]
  },
  {
   "cell_type": "code",
   "execution_count": null,
   "metadata": {},
   "outputs": [],
   "source": [
    "print(input_file_visit.shape)"
   ]
  },
  {
   "cell_type": "code",
   "execution_count": null,
   "metadata": {},
   "outputs": [],
   "source": [
    "input_file_visit['TCR'] = input_file_all.index.values.tolist()"
   ]
  },
  {
   "cell_type": "code",
   "execution_count": null,
   "metadata": {},
   "outputs": [],
   "source": [
    "input_file_visit['Number of Common Donors'] = input_file_visit['TCR'].apply(lambda x: find_sharing_level(x,input_file_all))\n",
    "input_file_visit['Sharing Level'] = input_file_visit['Number of Common Donors'].apply(lambda x: classify_sharing(x))"
   ]
  },
  {
   "cell_type": "code",
   "execution_count": null,
   "metadata": {},
   "outputs": [],
   "source": [
    "input_file_visit.head()"
   ]
  },
  {
   "cell_type": "code",
   "execution_count": null,
   "metadata": {},
   "outputs": [],
   "source": [
    "#Calculate Total UMI values for each donor\n",
    "donor_tot_umi = defaultdict(int)\n",
    "for donor in input_file_visit.columns.values.tolist()[:-4]:\n",
    "    donor_tot_umi[donor] = input_file_visit[donor].sum()"
   ]
  },
  {
   "cell_type": "code",
   "execution_count": null,
   "metadata": {},
   "outputs": [],
   "source": [
    "#Set up Sharing Levels-Total TCRs only\n",
    "sharing_per = pd.DataFrame(index = input_file_visit.columns.values[:-4],\n",
    "                          columns = [\"Private\",\"Public\"])\n",
    "for sharing_level in sorted(set(input_file_visit['Sharing Level'].values)):\n",
    "    fil_input_file_visit = input_file_visit[input_file_visit['Sharing Level'] == sharing_level]\n",
    "    for donor in input_file_visit.columns.values.tolist()[:-4]:\n",
    "        sharing_per.loc[donor,sharing_level] = (float(100)*fil_input_file_visit[donor].sum())/donor_tot_umi[donor]"
   ]
  },
  {
   "cell_type": "code",
   "execution_count": null,
   "metadata": {
    "scrolled": true
   },
   "outputs": [],
   "source": [
    "sharing_per"
   ]
  },
  {
   "cell_type": "code",
   "execution_count": null,
   "metadata": {},
   "outputs": [],
   "source": [
    "sharing_per.to_csv('./C_Result_Files/Sharing_Percentages/CD8_Alpha_Sharing_Percentages.csv')"
   ]
  }
 ],
 "metadata": {
  "kernelspec": {
   "display_name": "Python 3 (ipykernel)",
   "language": "python",
   "name": "python3"
  },
  "language_info": {
   "codemirror_mode": {
    "name": "ipython",
    "version": 3
   },
   "file_extension": ".py",
   "mimetype": "text/x-python",
   "name": "python",
   "nbconvert_exporter": "python",
   "pygments_lexer": "ipython3",
   "version": "3.8.8"
  }
 },
 "nbformat": 4,
 "nbformat_minor": 2
}
